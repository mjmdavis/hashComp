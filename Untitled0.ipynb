{
 "metadata": {
  "name": ""
 },
 "nbformat": 3,
 "nbformat_minor": 0,
 "worksheets": [
  {
   "cells": [
    {
     "cell_type": "code",
     "collapsed": false,
     "input": [
      "%load_ext autoreload\n",
      "%autoreload 2"
     ],
     "language": "python",
     "metadata": {},
     "outputs": [],
     "prompt_number": 1
    },
    {
     "cell_type": "code",
     "collapsed": false,
     "input": [
      "import hashComp as hc"
     ],
     "language": "python",
     "metadata": {},
     "outputs": [],
     "prompt_number": 2
    },
    {
     "cell_type": "code",
     "collapsed": false,
     "input": [
      "from itertools import *"
     ],
     "language": "python",
     "metadata": {},
     "outputs": [],
     "prompt_number": 3
    },
    {
     "cell_type": "code",
     "collapsed": false,
     "input": [
      "import bitarray as ba"
     ],
     "language": "python",
     "metadata": {},
     "outputs": [],
     "prompt_number": 4
    },
    {
     "cell_type": "code",
     "collapsed": false,
     "input": [
      "import string"
     ],
     "language": "python",
     "metadata": {},
     "outputs": [],
     "prompt_number": 135
    },
    {
     "cell_type": "code",
     "collapsed": false,
     "input": [
      "target = hc.hashString('novena')"
     ],
     "language": "python",
     "metadata": {},
     "outputs": [],
     "prompt_number": 6
    },
    {
     "cell_type": "code",
     "collapsed": false,
     "input": [
      "target.tobytes()"
     ],
     "language": "python",
     "metadata": {},
     "outputs": [
      {
       "metadata": {},
       "output_type": "pyout",
       "prompt_number": 8,
       "text": [
        "')\\xc9\\x86\\xa4\\x9a\\xbf\\x80\\xe9\\xed\\xf2\\xff\\xe8\\xef\\xb7\\xe0@'"
       ]
      }
     ],
     "prompt_number": 8
    },
    {
     "cell_type": "code",
     "collapsed": false,
     "input": [
      "hc.saveString('novena')"
     ],
     "language": "python",
     "metadata": {},
     "outputs": [
      {
       "metadata": {},
       "output_type": "pyout",
       "prompt_number": 14,
       "text": [
        "[True, 1L, 0]"
       ]
      }
     ],
     "prompt_number": 14
    },
    {
     "cell_type": "code",
     "collapsed": false,
     "input": [
      "r = hc._dbConnection"
     ],
     "language": "python",
     "metadata": {},
     "outputs": [],
     "prompt_number": 15
    },
    {
     "cell_type": "code",
     "collapsed": false,
     "input": [
      "r.hgetall('hash:%s'%target.tobytes())"
     ],
     "language": "python",
     "metadata": {},
     "outputs": [
      {
       "metadata": {},
       "output_type": "pyout",
       "prompt_number": 16,
       "text": [
        "{'score': '128', 'string': 'novena'}"
       ]
      }
     ],
     "prompt_number": 16
    },
    {
     "cell_type": "code",
     "collapsed": false,
     "input": [
      "bas = []\n",
      "for i in range(128):\n",
      "    bas.append(ba.bitarray(128))\n",
      "    bas[i].setall(0)\n",
      "    bas[i][i] = 1"
     ],
     "language": "python",
     "metadata": {},
     "outputs": [],
     "prompt_number": 83
    },
    {
     "cell_type": "code",
     "collapsed": false,
     "input": [
      "\"\".join(\"{:02x}\".format(ord(c)) for c in target.tobytes())"
     ],
     "language": "python",
     "metadata": {},
     "outputs": [
      {
       "metadata": {},
       "output_type": "pyout",
       "prompt_number": 94,
       "text": [
        "'29c986a49abf80e9edf2ffe8efb7e040'"
       ]
      }
     ],
     "prompt_number": 94
    },
    {
     "cell_type": "code",
     "collapsed": false,
     "input": [
      "h127 = map(lambda x: hc.hexHash(x^target), bas)\n",
      "for h in h127:\n",
      "    print h\n"
     ],
     "language": "python",
     "metadata": {},
     "outputs": [
      {
       "output_type": "stream",
       "stream": "stdout",
       "text": [
        "a9c986a49abf80e9edf2ffe8efb7e040\n",
        "69c986a49abf80e9edf2ffe8efb7e040\n",
        "09c986a49abf80e9edf2ffe8efb7e040\n",
        "39c986a49abf80e9edf2ffe8efb7e040\n",
        "21c986a49abf80e9edf2ffe8efb7e040\n",
        "2dc986a49abf80e9edf2ffe8efb7e040\n",
        "2bc986a49abf80e9edf2ffe8efb7e040\n",
        "28c986a49abf80e9edf2ffe8efb7e040\n",
        "294986a49abf80e9edf2ffe8efb7e040\n",
        "298986a49abf80e9edf2ffe8efb7e040\n",
        "29e986a49abf80e9edf2ffe8efb7e040\n",
        "29d986a49abf80e9edf2ffe8efb7e040\n",
        "29c186a49abf80e9edf2ffe8efb7e040\n",
        "29cd86a49abf80e9edf2ffe8efb7e040\n",
        "29cb86a49abf80e9edf2ffe8efb7e040\n",
        "29c886a49abf80e9edf2ffe8efb7e040\n",
        "29c906a49abf80e9edf2ffe8efb7e040\n",
        "29c9c6a49abf80e9edf2ffe8efb7e040\n",
        "29c9a6a49abf80e9edf2ffe8efb7e040\n",
        "29c996a49abf80e9edf2ffe8efb7e040\n",
        "29c98ea49abf80e9edf2ffe8efb7e040\n",
        "29c982a49abf80e9edf2ffe8efb7e040\n",
        "29c984a49abf80e9edf2ffe8efb7e040\n",
        "29c987a49abf80e9edf2ffe8efb7e040\n",
        "29c986249abf80e9edf2ffe8efb7e040\n",
        "29c986e49abf80e9edf2ffe8efb7e040\n",
        "29c986849abf80e9edf2ffe8efb7e040\n",
        "29c986b49abf80e9edf2ffe8efb7e040\n",
        "29c986ac9abf80e9edf2ffe8efb7e040\n",
        "29c986a09abf80e9edf2ffe8efb7e040\n",
        "29c986a69abf80e9edf2ffe8efb7e040\n",
        "29c986a59abf80e9edf2ffe8efb7e040\n",
        "29c986a41abf80e9edf2ffe8efb7e040\n",
        "29c986a4dabf80e9edf2ffe8efb7e040\n",
        "29c986a4babf80e9edf2ffe8efb7e040\n",
        "29c986a48abf80e9edf2ffe8efb7e040\n",
        "29c986a492bf80e9edf2ffe8efb7e040\n",
        "29c986a49ebf80e9edf2ffe8efb7e040\n",
        "29c986a498bf80e9edf2ffe8efb7e040\n",
        "29c986a49bbf80e9edf2ffe8efb7e040\n",
        "29c986a49a3f80e9edf2ffe8efb7e040\n",
        "29c986a49aff80e9edf2ffe8efb7e040\n",
        "29c986a49a9f80e9edf2ffe8efb7e040\n",
        "29c986a49aaf80e9edf2ffe8efb7e040\n",
        "29c986a49ab780e9edf2ffe8efb7e040\n",
        "29c986a49abb80e9edf2ffe8efb7e040\n",
        "29c986a49abd80e9edf2ffe8efb7e040\n",
        "29c986a49abe80e9edf2ffe8efb7e040\n",
        "29c986a49abf00e9edf2ffe8efb7e040\n",
        "29c986a49abfc0e9edf2ffe8efb7e040\n",
        "29c986a49abfa0e9edf2ffe8efb7e040\n",
        "29c986a49abf90e9edf2ffe8efb7e040\n",
        "29c986a49abf88e9edf2ffe8efb7e040\n",
        "29c986a49abf84e9edf2ffe8efb7e040\n",
        "29c986a49abf82e9edf2ffe8efb7e040\n",
        "29c986a49abf81e9edf2ffe8efb7e040\n",
        "29c986a49abf8069edf2ffe8efb7e040\n",
        "29c986a49abf80a9edf2ffe8efb7e040\n",
        "29c986a49abf80c9edf2ffe8efb7e040\n",
        "29c986a49abf80f9edf2ffe8efb7e040\n",
        "29c986a49abf80e1edf2ffe8efb7e040\n",
        "29c986a49abf80ededf2ffe8efb7e040\n",
        "29c986a49abf80ebedf2ffe8efb7e040\n",
        "29c986a49abf80e8edf2ffe8efb7e040\n",
        "29c986a49abf80e96df2ffe8efb7e040\n",
        "29c986a49abf80e9adf2ffe8efb7e040\n",
        "29c986a49abf80e9cdf2ffe8efb7e040\n",
        "29c986a49abf80e9fdf2ffe8efb7e040\n",
        "29c986a49abf80e9e5f2ffe8efb7e040\n",
        "29c986a49abf80e9e9f2ffe8efb7e040\n",
        "29c986a49abf80e9eff2ffe8efb7e040\n",
        "29c986a49abf80e9ecf2ffe8efb7e040\n",
        "29c986a49abf80e9ed72ffe8efb7e040\n",
        "29c986a49abf80e9edb2ffe8efb7e040\n",
        "29c986a49abf80e9edd2ffe8efb7e040\n",
        "29c986a49abf80e9ede2ffe8efb7e040\n",
        "29c986a49abf80e9edfaffe8efb7e040\n",
        "29c986a49abf80e9edf6ffe8efb7e040\n",
        "29c986a49abf80e9edf0ffe8efb7e040\n",
        "29c986a49abf80e9edf3ffe8efb7e040\n",
        "29c986a49abf80e9edf27fe8efb7e040\n",
        "29c986a49abf80e9edf2bfe8efb7e040\n",
        "29c986a49abf80e9edf2dfe8efb7e040\n",
        "29c986a49abf80e9edf2efe8efb7e040\n",
        "29c986a49abf80e9edf2f7e8efb7e040\n",
        "29c986a49abf80e9edf2fbe8efb7e040\n",
        "29c986a49abf80e9edf2fde8efb7e040\n",
        "29c986a49abf80e9edf2fee8efb7e040\n",
        "29c986a49abf80e9edf2ff68efb7e040\n",
        "29c986a49abf80e9edf2ffa8efb7e040\n",
        "29c986a49abf80e9edf2ffc8efb7e040\n",
        "29c986a49abf80e9edf2fff8efb7e040\n",
        "29c986a49abf80e9edf2ffe0efb7e040\n",
        "29c986a49abf80e9edf2ffecefb7e040\n",
        "29c986a49abf80e9edf2ffeaefb7e040\n",
        "29c986a49abf80e9edf2ffe9efb7e040\n",
        "29c986a49abf80e9edf2ffe86fb7e040\n",
        "29c986a49abf80e9edf2ffe8afb7e040\n",
        "29c986a49abf80e9edf2ffe8cfb7e040\n",
        "29c986a49abf80e9edf2ffe8ffb7e040\n",
        "29c986a49abf80e9edf2ffe8e7b7e040\n",
        "29c986a49abf80e9edf2ffe8ebb7e040\n",
        "29c986a49abf80e9edf2ffe8edb7e040\n",
        "29c986a49abf80e9edf2ffe8eeb7e040\n",
        "29c986a49abf80e9edf2ffe8ef37e040\n",
        "29c986a49abf80e9edf2ffe8eff7e040\n",
        "29c986a49abf80e9edf2ffe8ef97e040\n",
        "29c986a49abf80e9edf2ffe8efa7e040\n",
        "29c986a49abf80e9edf2ffe8efbfe040\n",
        "29c986a49abf80e9edf2ffe8efb3e040\n",
        "29c986a49abf80e9edf2ffe8efb5e040\n",
        "29c986a49abf80e9edf2ffe8efb6e040\n",
        "29c986a49abf80e9edf2ffe8efb76040\n",
        "29c986a49abf80e9edf2ffe8efb7a040\n",
        "29c986a49abf80e9edf2ffe8efb7c040\n",
        "29c986a49abf80e9edf2ffe8efb7f040\n",
        "29c986a49abf80e9edf2ffe8efb7e840\n",
        "29c986a49abf80e9edf2ffe8efb7e440\n",
        "29c986a49abf80e9edf2ffe8efb7e240\n",
        "29c986a49abf80e9edf2ffe8efb7e140\n",
        "29c986a49abf80e9edf2ffe8efb7e0c0\n",
        "29c986a49abf80e9edf2ffe8efb7e000\n",
        "29c986a49abf80e9edf2ffe8efb7e060\n",
        "29c986a49abf80e9edf2ffe8efb7e050\n",
        "29c986a49abf80e9edf2ffe8efb7e048\n",
        "29c986a49abf80e9edf2ffe8efb7e044\n",
        "29c986a49abf80e9edf2ffe8efb7e042\n",
        "29c986a49abf80e9edf2ffe8efb7e041\n"
       ]
      }
     ],
     "prompt_number": 197
    },
    {
     "cell_type": "code",
     "collapsed": false,
     "input": [
      "import requests"
     ],
     "language": "python",
     "metadata": {},
     "outputs": [],
     "prompt_number": 101
    },
    {
     "cell_type": "code",
     "collapsed": false,
     "input": [
      "h127r = []\n",
      "for hexHash in h127:\n",
      "    h127r.append(requests.get('http://de.md5decoder.org/%s'%hexHash))"
     ],
     "language": "python",
     "metadata": {},
     "outputs": [],
     "prompt_number": 102
    },
    {
     "cell_type": "code",
     "collapsed": false,
     "input": [
      "import google as goog"
     ],
     "language": "python",
     "metadata": {},
     "outputs": [
      {
       "ename": "ImportError",
       "evalue": "No module named google",
       "output_type": "pyerr",
       "traceback": [
        "\u001b[0;31m---------------------------------------------------------------------------\u001b[0m\n\u001b[0;31mImportError\u001b[0m                               Traceback (most recent call last)",
        "\u001b[0;32m<ipython-input-107-4aea0ff209e5>\u001b[0m in \u001b[0;36m<module>\u001b[0;34m()\u001b[0m\n\u001b[0;32m----> 1\u001b[0;31m \u001b[0;32mimport\u001b[0m \u001b[0mgoogle\u001b[0m \u001b[0;32mas\u001b[0m \u001b[0mgoog\u001b[0m\u001b[0;34m\u001b[0m\u001b[0m\n\u001b[0m",
        "\u001b[0;31mImportError\u001b[0m: No module named google"
       ]
      }
     ],
     "prompt_number": 107
    },
    {
     "cell_type": "code",
     "collapsed": false,
     "input": [
      "hc.getDifficulty()"
     ],
     "language": "python",
     "metadata": {},
     "outputs": [
      {
       "metadata": {},
       "output_type": "pyout",
       "prompt_number": 108,
       "text": [
        "106"
       ]
      }
     ],
     "prompt_number": 108
    },
    {
     "cell_type": "code",
     "collapsed": false,
     "input": [
      "resp = hc.submitString('novenaadsfasdfasdf')"
     ],
     "language": "python",
     "metadata": {},
     "outputs": [],
     "prompt_number": 129
    },
    {
     "cell_type": "code",
     "collapsed": false,
     "input": [
      "resp"
     ],
     "language": "python",
     "metadata": {},
     "outputs": [
      {
       "metadata": {},
       "output_type": "pyout",
       "prompt_number": 130,
       "text": [
        "<Response [200]>"
       ]
      }
     ],
     "prompt_number": 130
    },
    {
     "cell_type": "code",
     "collapsed": false,
     "input": [
      "resp.text"
     ],
     "language": "python",
     "metadata": {},
     "outputs": [
      {
       "metadata": {},
       "output_type": "pyout",
       "prompt_number": 131,
       "text": [
        "u'{\"status\": \"failure\", \"reason\": \"hash bc271579afd786c80328b2e53e02a946 only matches 65 bits\"}'"
       ]
      }
     ],
     "prompt_number": 131
    },
    {
     "cell_type": "code",
     "collapsed": false,
     "input": [
      "import json"
     ],
     "language": "python",
     "metadata": {},
     "outputs": [],
     "prompt_number": 132
    },
    {
     "cell_type": "code",
     "collapsed": false,
     "input": [
      "json.loads(resp.text)['status']"
     ],
     "language": "python",
     "metadata": {},
     "outputs": [
      {
       "metadata": {},
       "output_type": "pyout",
       "prompt_number": 134,
       "text": [
        "u'failure'"
       ]
      }
     ],
     "prompt_number": 134
    },
    {
     "cell_type": "code",
     "collapsed": false,
     "input": [
      "ds = ba.bitarray()"
     ],
     "language": "python",
     "metadata": {},
     "outputs": [],
     "prompt_number": 141
    },
    {
     "cell_type": "code",
     "collapsed": false,
     "input": [
      "ds.fromstring('novena')"
     ],
     "language": "python",
     "metadata": {},
     "outputs": [],
     "prompt_number": 142
    },
    {
     "cell_type": "code",
     "collapsed": false,
     "input": [
      "ds"
     ],
     "language": "python",
     "metadata": {},
     "outputs": [
      {
       "metadata": {},
       "output_type": "pyout",
       "prompt_number": 143,
       "text": [
        "bitarray('011011100110111101110110011001010110111001100001')"
       ]
      }
     ],
     "prompt_number": 143
    },
    {
     "cell_type": "code",
     "collapsed": false,
     "input": [
      "ds.append(00)"
     ],
     "language": "python",
     "metadata": {},
     "outputs": [],
     "prompt_number": 190
    },
    {
     "cell_type": "code",
     "collapsed": false,
     "input": [
      "ds"
     ],
     "language": "python",
     "metadata": {},
     "outputs": [
      {
       "metadata": {},
       "output_type": "pyout",
       "prompt_number": 188,
       "text": [
        "bitarray('011011100110111101110110011001010110111001100001000000000')"
       ]
      }
     ],
     "prompt_number": 188
    },
    {
     "cell_type": "code",
     "collapsed": false,
     "input": [
      "ds.tostring()"
     ],
     "language": "python",
     "metadata": {},
     "outputs": [
      {
       "metadata": {},
       "output_type": "pyout",
       "prompt_number": 169,
       "text": [
        "u'novena\\x00'"
       ]
      }
     ],
     "prompt_number": 169
    },
    {
     "cell_type": "code",
     "collapsed": false,
     "input": [
      "hc.scoreString(ds.tostring())"
     ],
     "language": "python",
     "metadata": {},
     "outputs": [
      {
       "metadata": {},
       "output_type": "pyout",
       "prompt_number": 171,
       "text": [
        "65L"
       ]
      }
     ],
     "prompt_number": 171
    },
    {
     "cell_type": "code",
     "collapsed": false,
     "input": [
      "hc.submitString('001h(`zy')"
     ],
     "language": "python",
     "metadata": {},
     "outputs": [
      {
       "metadata": {},
       "output_type": "pyout",
       "prompt_number": 196,
       "text": [
        "{u'reason': u'hash 098b8ba48a35a2cdde7bffe997b3e040 only matches 101 bits',\n",
        " u'status': u'failure'}"
       ]
      }
     ],
     "prompt_number": 196
    },
    {
     "cell_type": "code",
     "collapsed": false,
     "input": [
      "hc.getDifficulty()"
     ],
     "language": "python",
     "metadata": {},
     "outputs": [
      {
       "metadata": {},
       "output_type": "pyout",
       "prompt_number": 176,
       "text": [
        "106"
       ]
      }
     ],
     "prompt_number": 176
    },
    {
     "cell_type": "code",
     "collapsed": false,
     "input": [
      "hc.scoreString('novena\\x00')"
     ],
     "language": "python",
     "metadata": {},
     "outputs": [
      {
       "metadata": {},
       "output_type": "pyout",
       "prompt_number": 185,
       "text": [
        "65L"
       ]
      }
     ],
     "prompt_number": 185
    },
    {
     "cell_type": "code",
     "collapsed": false,
     "input": [
      "ds.tostring()"
     ],
     "language": "python",
     "metadata": {},
     "outputs": [
      {
       "metadata": {},
       "output_type": "pyout",
       "prompt_number": 182,
       "text": [
        "u'novena\\x00'"
       ]
      }
     ],
     "prompt_number": 182
    },
    {
     "cell_type": "code",
     "collapsed": false,
     "input": [
      "ds.tobytes() + 'hi'"
     ],
     "language": "python",
     "metadata": {},
     "outputs": [
      {
       "metadata": {},
       "output_type": "pyout",
       "prompt_number": 194,
       "text": [
        "'novena\\x00\\x00hi'"
       ]
      }
     ],
     "prompt_number": 194
    },
    {
     "cell_type": "code",
     "collapsed": false,
     "input": [],
     "language": "python",
     "metadata": {},
     "outputs": [],
     "prompt_number": 191
    },
    {
     "cell_type": "code",
     "collapsed": false,
     "input": [],
     "language": "python",
     "metadata": {},
     "outputs": []
    }
   ],
   "metadata": {}
  }
 ]
}